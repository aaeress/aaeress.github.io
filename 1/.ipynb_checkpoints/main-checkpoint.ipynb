{
 "cells": [
  {
   "cell_type": "code",
   "execution_count": 20,
   "id": "65fc6f3d-de80-45ac-944a-4e1e7f21e73f",
   "metadata": {},
   "outputs": [
    {
     "name": "stdout",
     "output_type": "stream",
     "text": [
      "[NbConvertApp] Converting notebook help.ipynb to script\n",
      "[NbConvertApp] Writing 7459 bytes to help.py\n"
     ]
    }
   ],
   "source": [
    "!jupyter nbconvert --to script help.ipynb\n",
    "from help import *"
   ]
  },
  {
   "cell_type": "code",
   "execution_count": 21,
   "id": "089d85a9-c14f-4bc6-af72-3406d331d62c",
   "metadata": {},
   "outputs": [],
   "source": [
    "def covert_to_uint8(data):\n",
    "    return_me = data * 255\n",
    "    return return_me.astype(np.uint8)"
   ]
  },
  {
   "cell_type": "code",
   "execution_count": 22,
   "id": "e300b6f3-50b5-46fb-8d3f-f8e5d7a8b84f",
   "metadata": {},
   "outputs": [],
   "source": [
    "input_folder = \"media\"\n",
    "output_folder = \"output_media\"\n",
    "\n",
    "if not os.path.exists(output_folder):\n",
    "    os.makedirs(output_folder)\n",
    "    \n",
    "for name in os.listdir(input_folder):\n",
    "    if name.endswith(\".jpg\") or name.endswith(\".tif\"):\n",
    "        file_name = os.path.join(input_folder, name)\n",
    "        im = skio.imread(file_name)\n",
    "        im = sk.img_as_float(im)\n",
    "        height = np.floor(im.shape[0] / 3.0).astype(int)\n",
    "        b = im[:height]\n",
    "        g = im[height: 2*height]\n",
    "        r = im[2*height: 3*height]\n",
    "        # result\n",
    "        ag, ag_offset = align(crop_edge(g), crop_edge(b))\n",
    "        ar, ar_offset = align(crop_edge(r), crop_edge(b))\n",
    "\n",
    "        # create a color image\n",
    "        im_out = np.dstack([covert_to_uint8(ar), covert_to_uint8(ag), covert_to_uint8(crop_edge(b))]) # 堆叠数组，这里堆叠三个颜色\n",
    "        \n",
    "        # save the image\n",
    "        output_filename = 'output_' + name\n",
    "        output_path = os.path.join(output_folder, output_filename)\n",
    "        skio.imsave(output_path, im_out)"
   ]
  },
  {
   "cell_type": "code",
   "execution_count": 25,
   "id": "246fc306-53ab-4788-b9fe-6a814d6b6a9c",
   "metadata": {},
   "outputs": [],
   "source": [
    "zip_folder = \"compressed_media\"\n",
    "\n",
    "def compress_image(image):\n",
    "    return resize(image, (388, 455))\n",
    "\n",
    "if not os.path.exists(zip_folder):\n",
    "    os.makedirs(zip_folder)\n",
    "\n",
    "for name in os.listdir(not_align_folder):\n",
    "    if name.endswith(\".jpg\") or name.endswith(\".tif\"):\n",
    "        file_name = os.path.join(not_align_folder, name)\n",
    "        im = skio.imread(file_name)\n",
    "        im = sk.img_as_float(im)\n",
    "        image = compress_image(im)\n",
    "        image = covert_to_uint8(image)\n",
    "        output_filename = os.path.splitext(name)[0] + \".jpg\"\n",
    "        output_path = os.path.join(zip_folder, output_filename)\n",
    "        skio.imsave(output_path, image)\n",
    "\n",
    "for name in os.listdir(output_folder):\n",
    "    if name.endswith(\".jpg\") or name.endswith(\".tif\"):\n",
    "        file_name = os.path.join(output_folder, name)\n",
    "        im = skio.imread(file_name)\n",
    "        im = sk.img_as_float(im)\n",
    "        image = compress_image(im)\n",
    "        image = covert_to_uint8(image)\n",
    "        output_filename = os.path.splitext(name)[0] + \".jpg\"\n",
    "        output_path = os.path.join(zip_folder, output_filename)\n",
    "        skio.imsave(output_path, image)\n",
    "    "
   ]
  },
  {
   "cell_type": "code",
   "execution_count": 24,
   "id": "cdb0970d-cfe2-4d85-b781-6173164c250b",
   "metadata": {},
   "outputs": [],
   "source": [
    "not_align_folder = \"not_align_media\"\n",
    "\n",
    "if not os.path.exists(not_align_folder):\n",
    "    os.makedirs(not_align_folder)\n",
    "    \n",
    "for name in os.listdir(input_folder):\n",
    "    if name.endswith(\".jpg\") or name.endswith(\".tif\"):\n",
    "        file_name = os.path.join(input_folder, name)\n",
    "        im = skio.imread(file_name)\n",
    "        im = sk.img_as_float(im)\n",
    "        height = np.floor(im.shape[0] / 3.0).astype(int)\n",
    "        b = im[:height]\n",
    "        g = im[height: 2*height]\n",
    "        r = im[2*height: 3*height]\n",
    "\n",
    "        # create a color image\n",
    "        im_out = np.dstack([covert_to_uint8(r), covert_to_uint8(g), covert_to_uint8(crop_edge(b))]) # 堆叠数组，这里堆叠三个颜色\n",
    "        \n",
    "        # save the image\n",
    "        output_filename = os.path.splitext(name)[0] + \".jpg\"\n",
    "        output_path = os.path.join(not_align_folder, output_filename)\n",
    "        skio.imsave(output_path, im_out)\n",
    "    "
   ]
  },
  {
   "cell_type": "code",
   "execution_count": null,
   "id": "313552e7-b218-45af-a6fa-a22388847903",
   "metadata": {},
   "outputs": [],
   "source": []
  }
 ],
 "metadata": {
  "kernelspec": {
   "display_name": "Python 3 (ipykernel)",
   "language": "python",
   "name": "python3"
  },
  "language_info": {
   "codemirror_mode": {
    "name": "ipython",
    "version": 3
   },
   "file_extension": ".py",
   "mimetype": "text/x-python",
   "name": "python",
   "nbconvert_exporter": "python",
   "pygments_lexer": "ipython3",
   "version": "3.12.4"
  }
 },
 "nbformat": 4,
 "nbformat_minor": 5
}
